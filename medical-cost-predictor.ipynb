{
 "cells": [
  {
   "cell_type": "code",
   "execution_count": 1,
   "id": "233cf47f",
   "metadata": {
    "_cell_guid": "b1076dfc-b9ad-4769-8c92-a6c4dae69d19",
    "_uuid": "8f2839f25d086af736a60e9eeb907d3b93b6e0e5",
    "execution": {
     "iopub.execute_input": "2025-07-04T20:42:00.511355Z",
     "iopub.status.busy": "2025-07-04T20:42:00.511032Z",
     "iopub.status.idle": "2025-07-04T20:42:05.370318Z",
     "shell.execute_reply": "2025-07-04T20:42:05.368926Z"
    },
    "papermill": {
     "duration": 4.86551,
     "end_time": "2025-07-04T20:42:05.372431",
     "exception": false,
     "start_time": "2025-07-04T20:42:00.506921",
     "status": "completed"
    },
    "tags": []
   },
   "outputs": [
    {
     "name": "stdout",
     "output_type": "stream",
     "text": [
      "----Model Evaluations----\n",
      "Show the MSE 33596915.85136145\n",
      "Show the r2 score 0.7835929767120724\n",
      "The coefficients\n",
      "The coefficient of the model [ 2.56975706e+02  3.37092552e+02  4.25278784e+02 -1.85916916e+01\n",
      "  2.36511289e+04 -3.70677326e+02 -6.57864297e+02 -8.09799354e+02]\n",
      "The intercept of the model -11931.21905032666\n"
     ]
    }
   ],
   "source": [
    "import pandas as pd\n",
    "import seaborn as sns\n",
    "import matplotlib.pyplot as plt\n",
    "\n",
    "data = pd.read_csv('/kaggle/input/insurance/insurance.csv')\n",
    "\n",
    "data_encoded  = pd.get_dummies(data, drop_first = True)\n",
    "from sklearn.model_selection import train_test_split\n",
    "X = data_encoded.drop('charges', axis=1)\n",
    "y= data_encoded['charges']\n",
    "\n",
    "X_train , X_test, y_train, y_test = train_test_split(\n",
    "    X, y, test_size = 0.2, random_state = 42\n",
    ")\n",
    "from sklearn.linear_model import LinearRegression\n",
    "model = LinearRegression()\n",
    "model.fit(X_train,y_train)\n",
    "\n",
    "y_pred = model.predict(X_test)\n",
    "\n",
    "from sklearn.metrics import mean_squared_error, r2_score\n",
    "print(\"----Model Evaluations----\")\n",
    "print(\"Show the MSE\", mean_squared_error(y_test, y_pred))\n",
    "print(\"Show the r2 score\", r2_score(y_test,y_pred))\n",
    "\n",
    "print(\"The coefficients\")\n",
    "print(\"The coefficient of the model\", model.coef_)\n",
    "print(\"The intercept of the model\", model.intercept_)"
   ]
  },
  {
   "cell_type": "code",
   "execution_count": null,
   "id": "4b48ff81",
   "metadata": {
    "papermill": {
     "duration": 0.001499,
     "end_time": "2025-07-04T20:42:05.376207",
     "exception": false,
     "start_time": "2025-07-04T20:42:05.374708",
     "status": "completed"
    },
    "tags": []
   },
   "outputs": [],
   "source": []
  },
  {
   "cell_type": "code",
   "execution_count": null,
   "id": "7ae94625",
   "metadata": {
    "papermill": {
     "duration": 0.001229,
     "end_time": "2025-07-04T20:42:05.378931",
     "exception": false,
     "start_time": "2025-07-04T20:42:05.377702",
     "status": "completed"
    },
    "tags": []
   },
   "outputs": [],
   "source": []
  }
 ],
 "metadata": {
  "kaggle": {
   "accelerator": "none",
   "dataSources": [
    {
     "datasetId": 13720,
     "sourceId": 18513,
     "sourceType": "datasetVersion"
    }
   ],
   "dockerImageVersionId": 31040,
   "isGpuEnabled": false,
   "isInternetEnabled": false,
   "language": "python",
   "sourceType": "notebook"
  },
  "kernelspec": {
   "display_name": "Python 3",
   "language": "python",
   "name": "python3"
  },
  "language_info": {
   "codemirror_mode": {
    "name": "ipython",
    "version": 3
   },
   "file_extension": ".py",
   "mimetype": "text/x-python",
   "name": "python",
   "nbconvert_exporter": "python",
   "pygments_lexer": "ipython3",
   "version": "3.11.11"
  },
  "papermill": {
   "default_parameters": {},
   "duration": 13.221399,
   "end_time": "2025-07-04T20:42:08.432108",
   "environment_variables": {},
   "exception": null,
   "input_path": "__notebook__.ipynb",
   "output_path": "__notebook__.ipynb",
   "parameters": {},
   "start_time": "2025-07-04T20:41:55.210709",
   "version": "2.6.0"
  }
 },
 "nbformat": 4,
 "nbformat_minor": 5
}
